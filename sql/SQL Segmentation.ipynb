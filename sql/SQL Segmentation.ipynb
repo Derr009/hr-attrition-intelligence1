{
 "cells": [
  {
   "metadata": {
    "ExecuteTime": {
     "end_time": "2025-08-13T05:40:29.395168Z",
     "start_time": "2025-08-13T05:40:29.392301Z"
    }
   },
   "cell_type": "code",
   "source": [
    "import pandas as pd\n",
    "import sqlite3"
   ],
   "id": "8a8455bdcd4a289e",
   "outputs": [],
   "execution_count": 17
  },
  {
   "metadata": {
    "ExecuteTime": {
     "end_time": "2025-08-13T05:48:01.532170Z",
     "start_time": "2025-08-13T05:48:01.519525Z"
    }
   },
   "cell_type": "code",
   "source": [
    "import sqlite3\n",
    "import pandas as pd\n",
    "\n",
    "# Path to your SQLite DB\n",
    "DB_PATH = \"/home/nineleaps/Desktop/data/hr_analytics.db\"  # change if needed\n",
    "\n",
    "# All segmentation queries\n",
    "queries = {\n",
    "    \"Employees by Department\": \"\"\"\n",
    "        select department, count(*) as employee_count\n",
    "        from merged_data\n",
    "        group by department\n",
    "    \"\"\",\n",
    "    \"Employees by Performance Rating\": \"\"\"\n",
    "        select performance_rating, count(*) as employee_count\n",
    "        from merged_data\n",
    "        group by performance_rating\n",
    "        order by performance_rating desc\n",
    "    \"\"\",\n",
    "    \"Employees by Salary Band\": \"\"\"\n",
    "        select salary_band, count(*) as employee_count\n",
    "        from merged_data\n",
    "        group by salary_band\n",
    "        order by salary_band\n",
    "    \"\"\",\n",
    "    \"Employees by Engagement Score Range\": \"\"\"\n",
    "        select\n",
    "            case\n",
    "                when engagement_score >= 80 then 'High'\n",
    "                when engagement_score between 50 and 79 then 'Medium'\n",
    "                else 'Low'\n",
    "            end as engagement_category,\n",
    "            count(*) as employee_count\n",
    "        from merged_data\n",
    "        group by engagement_category\n",
    "    \"\"\"\n",
    "}\n",
    "\n",
    "# Connect to DB\n",
    "conn = sqlite3.connect(DB_PATH)\n",
    "\n",
    "# Run each query and display\n",
    "for title, query in queries.items():\n",
    "    print(f\"\\n=== {title} ===\")\n",
    "    df = pd.read_sql_query(query, conn)\n",
    "    print(df.to_string(index=False))\n",
    "\n",
    "# Close DB\n",
    "conn.close()\n"
   ],
   "id": "343d431514458a29",
   "outputs": [
    {
     "name": "stdout",
     "output_type": "stream",
     "text": [
      "\n",
      "=== Employees by Department ===\n",
      "                                      department  employee_count\n",
      "                           Accounting & Taxation               1\n",
      "                                  BD / Pre Sales               2\n",
      "                              Banking Operations               1\n",
      "               Business Intelligence & Analytics              12\n",
      "Content Management (Print / Online / Electronic)               2\n",
      "                          DBA / Data warehousing               1\n",
      "                                            Data               1\n",
      "                Data Science & Analytics - Other               1\n",
      "                 Data Science & Machine Learning               6\n",
      "                                     Engineering               3\n",
      "                                   HR Operations               1\n",
      "                                              IT               1\n",
      "                                      IT Network               1\n",
      "                                      IT Support               1\n",
      "                          Information Technology               3\n",
      "                                         Lending               1\n",
      "                                       Marketing               2\n",
      "                                              Na               1\n",
      "                              Operations Support               1\n",
      "                 Product Management - Technology               1\n",
      "                      Production & Manufacturing               1\n",
      "                   Quality Assurance and Testing               8\n",
      "                Recruitment & Talent Acquisition               2\n",
      "                            Software Development              81\n",
      "                                 Technology / IT               3\n",
      "                                         UI / UX               2\n",
      "\n",
      "=== Employees by Performance Rating ===\n",
      " performance_rating  employee_count\n",
      "                  5              35\n",
      "                  4              27\n",
      "                  3              38\n",
      "                  2              26\n",
      "                  1              14\n",
      "\n",
      "=== Employees by Salary Band ===\n",
      "salary_band  employee_count\n",
      "          A              42\n",
      "          B              42\n",
      "          C              56\n",
      "\n",
      "=== Employees by Engagement Score Range ===\n",
      "engagement_category  employee_count\n",
      "                Low             140\n"
     ]
    }
   ],
   "execution_count": 30
  },
  {
   "metadata": {},
   "cell_type": "code",
   "outputs": [],
   "execution_count": null,
   "source": "",
   "id": "566f562a87c16a2e"
  }
 ],
 "metadata": {
  "kernelspec": {
   "display_name": "Python 3",
   "language": "python",
   "name": "python3"
  },
  "language_info": {
   "codemirror_mode": {
    "name": "ipython",
    "version": 2
   },
   "file_extension": ".py",
   "mimetype": "text/x-python",
   "name": "python",
   "nbconvert_exporter": "python",
   "pygments_lexer": "ipython2",
   "version": "2.7.6"
  }
 },
 "nbformat": 4,
 "nbformat_minor": 5
}
