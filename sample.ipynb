{
 "cells": [
  {
   "cell_type": "code",
   "execution_count": 1,
   "id": "b737b4dc",
   "metadata": {},
   "outputs": [],
   "source": [
    "import pandas as pd"
   ]
  },
  {
   "cell_type": "code",
   "execution_count": 10,
   "id": "0896fc14",
   "metadata": {},
   "outputs": [],
   "source": [
    "df =  pd.read_csv(\"data/reviews_enriched_latest.csv\")"
   ]
  },
  {
   "cell_type": "code",
   "execution_count": 11,
   "id": "930f0b8c",
   "metadata": {},
   "outputs": [
    {
     "data": {
      "text/html": [
       "<div>\n",
       "<style scoped>\n",
       "    .dataframe tbody tr th:only-of-type {\n",
       "        vertical-align: middle;\n",
       "    }\n",
       "\n",
       "    .dataframe tbody tr th {\n",
       "        vertical-align: top;\n",
       "    }\n",
       "\n",
       "    .dataframe thead th {\n",
       "        text-align: right;\n",
       "    }\n",
       "</style>\n",
       "<table border=\"1\" class=\"dataframe\">\n",
       "  <thead>\n",
       "    <tr style=\"text-align: right;\">\n",
       "      <th></th>\n",
       "      <th>review_id</th>\n",
       "      <th>company</th>\n",
       "      <th>job_title</th>\n",
       "      <th>department</th>\n",
       "      <th>location</th>\n",
       "      <th>review_date</th>\n",
       "      <th>overall_rating</th>\n",
       "      <th>pros</th>\n",
       "      <th>cons</th>\n",
       "      <th>employee_id</th>\n",
       "      <th>name</th>\n",
       "      <th>status</th>\n",
       "      <th>joining_date</th>\n",
       "      <th>exit_date</th>\n",
       "      <th>engagement_score</th>\n",
       "      <th>performance_rating</th>\n",
       "      <th>salary_band</th>\n",
       "      <th>gender</th>\n",
       "      <th>age</th>\n",
       "    </tr>\n",
       "  </thead>\n",
       "  <tbody>\n",
       "    <tr>\n",
       "      <th>0</th>\n",
       "      <td>review-64033626</td>\n",
       "      <td>Nineleaps Technology Solutions</td>\n",
       "      <td>Data Engineer</td>\n",
       "      <td>IT Support</td>\n",
       "      <td>Bangalore / Bengaluru</td>\n",
       "      <td>2024-12-18</td>\n",
       "      <td>2</td>\n",
       "      <td>Here at NINELEAPS we have fun with team and ev...</td>\n",
       "      <td>Skill development is poor. You might be workin...</td>\n",
       "      <td>EMP0060</td>\n",
       "      <td>Vivaan Singh</td>\n",
       "      <td>Active</td>\n",
       "      <td>2023-03-30</td>\n",
       "      <td>NaN</td>\n",
       "      <td>5.6</td>\n",
       "      <td>1</td>\n",
       "      <td>C</td>\n",
       "      <td>Female</td>\n",
       "      <td>26</td>\n",
       "    </tr>\n",
       "    <tr>\n",
       "      <th>1</th>\n",
       "      <td>review-65978126</td>\n",
       "      <td>Nineleaps Technology Solutions</td>\n",
       "      <td>Lead Software Engineer</td>\n",
       "      <td>Software Development</td>\n",
       "      <td>Bangalore / Bengaluru</td>\n",
       "      <td>2025-01-31</td>\n",
       "      <td>5</td>\n",
       "      <td>People are friendly. Company even supports ski...</td>\n",
       "      <td>Management should address queries immediately ...</td>\n",
       "      <td>EMP0030</td>\n",
       "      <td>Sneha Nair</td>\n",
       "      <td>Active</td>\n",
       "      <td>2022-06-18</td>\n",
       "      <td>NaN</td>\n",
       "      <td>8.0</td>\n",
       "      <td>4</td>\n",
       "      <td>B</td>\n",
       "      <td>Male</td>\n",
       "      <td>48</td>\n",
       "    </tr>\n",
       "  </tbody>\n",
       "</table>\n",
       "</div>"
      ],
      "text/plain": [
       "         review_id                         company               job_title  \\\n",
       "0  review-64033626  Nineleaps Technology Solutions           Data Engineer   \n",
       "1  review-65978126  Nineleaps Technology Solutions  Lead Software Engineer   \n",
       "\n",
       "             department               location review_date  overall_rating  \\\n",
       "0            IT Support  Bangalore / Bengaluru  2024-12-18               2   \n",
       "1  Software Development  Bangalore / Bengaluru  2025-01-31               5   \n",
       "\n",
       "                                                pros  \\\n",
       "0  Here at NINELEAPS we have fun with team and ev...   \n",
       "1  People are friendly. Company even supports ski...   \n",
       "\n",
       "                                                cons employee_id  \\\n",
       "0  Skill development is poor. You might be workin...     EMP0060   \n",
       "1  Management should address queries immediately ...     EMP0030   \n",
       "\n",
       "           name  status joining_date exit_date  engagement_score  \\\n",
       "0  Vivaan Singh  Active   2023-03-30       NaN               5.6   \n",
       "1    Sneha Nair  Active   2022-06-18       NaN               8.0   \n",
       "\n",
       "   performance_rating salary_band  gender  age  \n",
       "0                   1           C  Female   26  \n",
       "1                   4           B    Male   48  "
      ]
     },
     "execution_count": 11,
     "metadata": {},
     "output_type": "execute_result"
    }
   ],
   "source": [
    "df.head(2)"
   ]
  },
  {
   "cell_type": "code",
   "execution_count": 5,
   "id": "838d8cdb",
   "metadata": {},
   "outputs": [
    {
     "data": {
      "text/plain": [
       "array(['Data Engineer', 'Lead Software Engineer',\n",
       "       'Software Development Engineer II', 'Front end Engineer',\n",
       "       'Associate', 'HR Executive', 'Software Development Engineer 1',\n",
       "       'Software Engineer', 'Data Analyst 1', 'Data Analyst',\n",
       "       'UI UX Developer', 'Software Development Engineer',\n",
       "       'Quality Engineer', 'Software Developer', 'Principal Engineer',\n",
       "       'Junior Engineer', 'Marketing Executive',\n",
       "       'Senior Quality Engineer', 'Sdet', 'SDE',\n",
       "       'Principal Software Engineer', 'Associate Project Manager',\n",
       "       'QA Engineer', 'Senior Talent Partner', 'Senior Software Engineer',\n",
       "       'Member Technical Staff 2', 'SDE-2', 'Technical Staff Member 3',\n",
       "       'Senior QA Engineer'], dtype=object)"
      ]
     },
     "execution_count": 5,
     "metadata": {},
     "output_type": "execute_result"
    }
   ],
   "source": [
    "df['JobTitle'].unique()"
   ]
  },
  {
   "cell_type": "code",
   "execution_count": null,
   "id": "9e328629",
   "metadata": {},
   "outputs": [],
   "source": []
  },
  {
   "cell_type": "code",
   "execution_count": null,
   "id": "5fed8195",
   "metadata": {},
   "outputs": [],
   "source": []
  }
 ],
 "metadata": {
  "kernelspec": {
   "display_name": "Python 3",
   "language": "python",
   "name": "python3"
  },
  "language_info": {
   "codemirror_mode": {
    "name": "ipython",
    "version": 3
   },
   "file_extension": ".py",
   "mimetype": "text/x-python",
   "name": "python",
   "nbconvert_exporter": "python",
   "pygments_lexer": "ipython3",
   "version": "3.10.12"
  }
 },
 "nbformat": 4,
 "nbformat_minor": 5
}
